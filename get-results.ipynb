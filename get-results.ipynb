{
 "cells": [
  {
   "cell_type": "markdown",
   "metadata": {},
   "source": [
    "# Obtention des résultats bruts d'une élection au GC - Cleaning - Regroupement des listes par groupes parlementaires - Estimation électorat partisan\n",
    "\n",
    "Le résultat est exporté dans un fichier Excel local (par ex. _2017-resultats-communes.xlsx_)"
   ]
  },
  {
   "cell_type": "code",
   "execution_count": 1,
   "metadata": {},
   "outputs": [],
   "source": [
    "import pandas as pd\n",
    "import requests"
   ]
  },
  {
   "cell_type": "code",
   "execution_count": 143,
   "metadata": {},
   "outputs": [],
   "source": [
    "## PARAMETERS\n",
    "\n",
    "# urls like https://votel.vs.ch/sites/votel2/FR/1/excel/gc/137/commune/csv/1 -> le dernier chiffre = numéro du district\n",
    "url_base = 'https://votel.vs.ch/sites/votel2/FR/1/excel/gc/137/commune/csv/'\n",
    "rawresultfile_base = '2017-resultats-bruts/raw-resultats-district-'\n",
    "cleanresultfile_base = '2017-resultats-bruts/clean-resultats-district-'\n",
    "\n",
    "# each district has a \"number\" on votel website. This maps from votel number to district name.\n",
    "mapping_district = {\n",
    "    1:\"Goms\",\n",
    "    2:\"Östlich Raron\",\n",
    "    3:\"Brig\",\n",
    "    4:\"Visp\",\n",
    "    5:\"Westlich Raron\",\n",
    "    6:\"Leuk\",\n",
    "    7:\"Sierre\",\n",
    "    8:\"Hérens\",\n",
    "    9:\"Sion\",\n",
    "    10:\"Conthey\",\n",
    "    11:\"Martigny\",\n",
    "    12:\"Entremont\",\n",
    "    13:\"St-Maurice\",\n",
    "    14:\"Monthey\",\n",
    "}\n",
    "\n",
    "district_seats = {\n",
    "    \"Goms\":2,\n",
    "    \"Östlich Raron\":1,\n",
    "    \"Brig\":11,\n",
    "    \"Visp\":11,\n",
    "    \"Westlich Raron\":4,\n",
    "    \"Leuk\":5,\n",
    "    \"Sierre\":17,\n",
    "    \"Hérens\":5,\n",
    "    \"Sion\":18,\n",
    "    \"Conthey\":11,\n",
    "    \"Martigny\":17,\n",
    "    \"Entremont\":6,\n",
    "    \"St-Maurice\":5,\n",
    "    \"Monthey\":17\n",
    "}\n",
    "\n"
   ]
  },
  {
   "cell_type": "code",
   "execution_count": 115,
   "metadata": {},
   "outputs": [
    {
     "name": "stdout",
     "output_type": "stream",
     "text": [
      "Downloading https://votel.vs.ch/sites/votel2/FR/1/excel/gc/137/commune/csv/1\n",
      "Written file 2017-resultats-bruts/raw-resultats-district-1.csv\n",
      "Downloading https://votel.vs.ch/sites/votel2/FR/1/excel/gc/137/commune/csv/2\n",
      "Written file 2017-resultats-bruts/raw-resultats-district-2.csv\n",
      "Downloading https://votel.vs.ch/sites/votel2/FR/1/excel/gc/137/commune/csv/3\n",
      "Written file 2017-resultats-bruts/raw-resultats-district-3.csv\n",
      "Downloading https://votel.vs.ch/sites/votel2/FR/1/excel/gc/137/commune/csv/4\n",
      "Written file 2017-resultats-bruts/raw-resultats-district-4.csv\n",
      "Downloading https://votel.vs.ch/sites/votel2/FR/1/excel/gc/137/commune/csv/5\n",
      "Written file 2017-resultats-bruts/raw-resultats-district-5.csv\n",
      "Downloading https://votel.vs.ch/sites/votel2/FR/1/excel/gc/137/commune/csv/6\n",
      "Written file 2017-resultats-bruts/raw-resultats-district-6.csv\n",
      "Downloading https://votel.vs.ch/sites/votel2/FR/1/excel/gc/137/commune/csv/7\n",
      "Written file 2017-resultats-bruts/raw-resultats-district-7.csv\n",
      "Downloading https://votel.vs.ch/sites/votel2/FR/1/excel/gc/137/commune/csv/8\n",
      "Written file 2017-resultats-bruts/raw-resultats-district-8.csv\n",
      "Downloading https://votel.vs.ch/sites/votel2/FR/1/excel/gc/137/commune/csv/9\n",
      "Written file 2017-resultats-bruts/raw-resultats-district-9.csv\n",
      "Downloading https://votel.vs.ch/sites/votel2/FR/1/excel/gc/137/commune/csv/10\n",
      "Written file 2017-resultats-bruts/raw-resultats-district-10.csv\n",
      "Downloading https://votel.vs.ch/sites/votel2/FR/1/excel/gc/137/commune/csv/11\n",
      "Written file 2017-resultats-bruts/raw-resultats-district-11.csv\n",
      "Downloading https://votel.vs.ch/sites/votel2/FR/1/excel/gc/137/commune/csv/12\n",
      "Written file 2017-resultats-bruts/raw-resultats-district-12.csv\n",
      "Downloading https://votel.vs.ch/sites/votel2/FR/1/excel/gc/137/commune/csv/13\n",
      "Written file 2017-resultats-bruts/raw-resultats-district-13.csv\n",
      "Downloading https://votel.vs.ch/sites/votel2/FR/1/excel/gc/137/commune/csv/14\n",
      "Written file 2017-resultats-bruts/raw-resultats-district-14.csv\n"
     ]
    }
   ],
   "source": [
    "############\n",
    "# GET RAW RESULTS 2017 PER DISTRICT FROM VOTEL\n",
    "############\n",
    "\n",
    "# dl fichiers localement\n",
    "for i in range(1,len(mapping_district)):\n",
    "    url = urlbase+str(i)\n",
    "    filename = rawresultfile_base+str(i)+\".csv\"\n",
    "    print(\"Downloading \"+url)\n",
    "    r = requests.get(url)\n",
    "    with open(filename,'w') as f:\n",
    "        f.write(r.text)\n",
    "        print(\"Written file \"+filename)"
   ]
  },
  {
   "cell_type": "code",
   "execution_count": 114,
   "metadata": {},
   "outputs": [
    {
     "name": "stdout",
     "output_type": "stream",
     "text": [
      "Written file 2017-resultats-bruts/clean-resultats-district-1.csv\n",
      "Written file 2017-resultats-bruts/clean-resultats-district-2.csv\n",
      "Written file 2017-resultats-bruts/clean-resultats-district-3.csv\n",
      "Written file 2017-resultats-bruts/clean-resultats-district-4.csv\n",
      "Written file 2017-resultats-bruts/clean-resultats-district-5.csv\n",
      "Written file 2017-resultats-bruts/clean-resultats-district-6.csv\n",
      "Written file 2017-resultats-bruts/clean-resultats-district-7.csv\n",
      "Written file 2017-resultats-bruts/clean-resultats-district-8.csv\n",
      "Written file 2017-resultats-bruts/clean-resultats-district-9.csv\n",
      "Written file 2017-resultats-bruts/clean-resultats-district-10.csv\n",
      "Written file 2017-resultats-bruts/clean-resultats-district-11.csv\n",
      "Written file 2017-resultats-bruts/clean-resultats-district-12.csv\n",
      "Written file 2017-resultats-bruts/clean-resultats-district-13.csv\n",
      "Written file 2017-resultats-bruts/clean-resultats-district-14.csv\n"
     ]
    }
   ],
   "source": [
    "############\n",
    "# CLEAN RAW RESULTS PER DISTRICT AND GENERATE CLEAN FILES\n",
    "############\n",
    "\n",
    "def makeCleanResultsFile(district_num):\n",
    "    rawf = rawresultfile_base+str(district_num)+'.csv'\n",
    "    cleanf = cleanresultfile_base+str(district_num)+'.csv'\n",
    "    with open(rawf) as f:\n",
    "        lines = f.read().splitlines()\n",
    "        # remove \"empty\" lines at top of file \n",
    "        # structure des fichiers -> commence à ligne 1 avec valeurs générales, \n",
    "        # puis 2 lignes blanches, puis scores par liste, \n",
    "        toplines_clean = lines[2:13]+lines[15:]\n",
    "        # ensuite, après la prochaine ligne blanche commencent les scores individuels -> inutiles\n",
    "        results_clean = toplines_clean[:toplines_clean.index('')]\n",
    "    with open(cleanf,'w') as f:\n",
    "        # append header \"Commune\"\n",
    "        f.write('Commune'+'\\n'.join(results_clean))\n",
    "        print(\"Written file \"+cleanf)\n",
    "    \n",
    "# for each file, generate clean results file\n",
    "for i in range(1,len(mapping_district)):\n",
    "    makeCleanResultsFile(i)"
   ]
  },
  {
   "cell_type": "code",
   "execution_count": 124,
   "metadata": {},
   "outputs": [],
   "source": [
    "############\n",
    "# AGGREGATE CLEAN RESULTS IN ONE FILE\n",
    "############\n",
    "\n",
    "# wrangle data (reindex + remove useless canton column + transpose)\n",
    "def getCleanDf(district_num):\n",
    "    cleanf = cleanresultfile_base+str(district_num)+'.csv'\n",
    "    df = pd.read_csv(cleanf,delimiter=';')\n",
    "    df = df.drop('Canton',axis=1) # remove canton score \n",
    "    df = df.set_index('Commune')\n",
    "    df = df.transpose()\n",
    "    df['District'] = mapping_district[district_num]\n",
    "    return df\n",
    "\n",
    "district_dfs = [getCleanDf(i) for i in range(1,len(mapping_district))] \n",
    " "
   ]
  },
  {
   "cell_type": "code",
   "execution_count": 125,
   "metadata": {},
   "outputs": [
    {
     "data": {
      "text/html": [
       "<div>\n",
       "<style>\n",
       "    .dataframe thead tr:only-child th {\n",
       "        text-align: right;\n",
       "    }\n",
       "\n",
       "    .dataframe thead th {\n",
       "        text-align: left;\n",
       "    }\n",
       "\n",
       "    .dataframe tbody tr th {\n",
       "        vertical-align: top;\n",
       "    }\n",
       "</style>\n",
       "<table border=\"1\" class=\"dataframe\">\n",
       "  <thead>\n",
       "    <tr style=\"text-align: right;\">\n",
       "      <th></th>\n",
       "      <th>1. CHRISTLICHSOZIALE PARTEI (CSP)</th>\n",
       "      <th>1. CHRISTLICHSOZIALE VOLKSPARTEI (CSP)</th>\n",
       "      <th>1. LES VERTS</th>\n",
       "      <th>1. LES VERTS - GRÜNE</th>\n",
       "      <th>1. PARTI DÉMOCRATE-CHRÉTIEN</th>\n",
       "      <th>1. PARTI LIBÉRAL-RADICAL</th>\n",
       "      <th>2. CHRISTLICHDEMOKRATISCHE VOLKSPARTEI - CVP OBERWALLIS</th>\n",
       "      <th>2. CHRISTLICHDEMOKRATISCHE VOLKSPARTEI CVP OBERWALLIS</th>\n",
       "      <th>2. LES VERTS</th>\n",
       "      <th>2. SP, GRÜNE UND UNABHÄNGIGE</th>\n",
       "      <th>...</th>\n",
       "      <th>Bulletins nuls</th>\n",
       "      <th>Bulletins valables</th>\n",
       "      <th>District</th>\n",
       "      <th>Electeurs inscrits</th>\n",
       "      <th>Participation (%)</th>\n",
       "      <th>Votants</th>\n",
       "      <th>Votes par correspondances</th>\n",
       "      <th>Votes à l'urne</th>\n",
       "      <th>par dépôt à la commune</th>\n",
       "      <th>par voie postale</th>\n",
       "    </tr>\n",
       "  </thead>\n",
       "  <tbody>\n",
       "    <tr>\n",
       "      <th>Bellwald</th>\n",
       "      <td>NaN</td>\n",
       "      <td>121.0</td>\n",
       "      <td>NaN</td>\n",
       "      <td>NaN</td>\n",
       "      <td>NaN</td>\n",
       "      <td>NaN</td>\n",
       "      <td>NaN</td>\n",
       "      <td>NaN</td>\n",
       "      <td>NaN</td>\n",
       "      <td>38.0</td>\n",
       "      <td>...</td>\n",
       "      <td>0.0</td>\n",
       "      <td>123.0</td>\n",
       "      <td>Goms</td>\n",
       "      <td>291.0</td>\n",
       "      <td>45.36</td>\n",
       "      <td>132.0</td>\n",
       "      <td>109.0</td>\n",
       "      <td>23.0</td>\n",
       "      <td>86.0</td>\n",
       "      <td>23.0</td>\n",
       "    </tr>\n",
       "    <tr>\n",
       "      <th>Binn</th>\n",
       "      <td>NaN</td>\n",
       "      <td>49.0</td>\n",
       "      <td>NaN</td>\n",
       "      <td>NaN</td>\n",
       "      <td>NaN</td>\n",
       "      <td>NaN</td>\n",
       "      <td>NaN</td>\n",
       "      <td>NaN</td>\n",
       "      <td>NaN</td>\n",
       "      <td>8.0</td>\n",
       "      <td>...</td>\n",
       "      <td>2.0</td>\n",
       "      <td>51.0</td>\n",
       "      <td>Goms</td>\n",
       "      <td>103.0</td>\n",
       "      <td>51.46</td>\n",
       "      <td>53.0</td>\n",
       "      <td>31.0</td>\n",
       "      <td>22.0</td>\n",
       "      <td>19.0</td>\n",
       "      <td>12.0</td>\n",
       "    </tr>\n",
       "    <tr>\n",
       "      <th>Ernen</th>\n",
       "      <td>NaN</td>\n",
       "      <td>121.0</td>\n",
       "      <td>NaN</td>\n",
       "      <td>NaN</td>\n",
       "      <td>NaN</td>\n",
       "      <td>NaN</td>\n",
       "      <td>NaN</td>\n",
       "      <td>NaN</td>\n",
       "      <td>NaN</td>\n",
       "      <td>61.0</td>\n",
       "      <td>...</td>\n",
       "      <td>0.0</td>\n",
       "      <td>208.0</td>\n",
       "      <td>Goms</td>\n",
       "      <td>411.0</td>\n",
       "      <td>50.61</td>\n",
       "      <td>208.0</td>\n",
       "      <td>176.0</td>\n",
       "      <td>32.0</td>\n",
       "      <td>101.0</td>\n",
       "      <td>75.0</td>\n",
       "    </tr>\n",
       "    <tr>\n",
       "      <th>Fiesch</th>\n",
       "      <td>NaN</td>\n",
       "      <td>325.0</td>\n",
       "      <td>NaN</td>\n",
       "      <td>NaN</td>\n",
       "      <td>NaN</td>\n",
       "      <td>NaN</td>\n",
       "      <td>NaN</td>\n",
       "      <td>NaN</td>\n",
       "      <td>NaN</td>\n",
       "      <td>63.0</td>\n",
       "      <td>...</td>\n",
       "      <td>8.0</td>\n",
       "      <td>329.0</td>\n",
       "      <td>Goms</td>\n",
       "      <td>686.0</td>\n",
       "      <td>50.15</td>\n",
       "      <td>344.0</td>\n",
       "      <td>453.0</td>\n",
       "      <td>-109.0</td>\n",
       "      <td>318.0</td>\n",
       "      <td>135.0</td>\n",
       "    </tr>\n",
       "    <tr>\n",
       "      <th>Fieschertal</th>\n",
       "      <td>NaN</td>\n",
       "      <td>104.0</td>\n",
       "      <td>NaN</td>\n",
       "      <td>NaN</td>\n",
       "      <td>NaN</td>\n",
       "      <td>NaN</td>\n",
       "      <td>NaN</td>\n",
       "      <td>NaN</td>\n",
       "      <td>NaN</td>\n",
       "      <td>13.0</td>\n",
       "      <td>...</td>\n",
       "      <td>1.0</td>\n",
       "      <td>125.0</td>\n",
       "      <td>Goms</td>\n",
       "      <td>235.0</td>\n",
       "      <td>54.04</td>\n",
       "      <td>127.0</td>\n",
       "      <td>127.0</td>\n",
       "      <td>0.0</td>\n",
       "      <td>90.0</td>\n",
       "      <td>37.0</td>\n",
       "    </tr>\n",
       "  </tbody>\n",
       "</table>\n",
       "<p>5 rows × 43 columns</p>\n",
       "</div>"
      ],
      "text/plain": [
       "             1. CHRISTLICHSOZIALE PARTEI (CSP)  \\\n",
       "Bellwald                                   NaN   \n",
       "Binn                                       NaN   \n",
       "Ernen                                      NaN   \n",
       "Fiesch                                     NaN   \n",
       "Fieschertal                                NaN   \n",
       "\n",
       "             1. CHRISTLICHSOZIALE VOLKSPARTEI (CSP)  1. LES VERTS  \\\n",
       "Bellwald                                      121.0           NaN   \n",
       "Binn                                           49.0           NaN   \n",
       "Ernen                                         121.0           NaN   \n",
       "Fiesch                                        325.0           NaN   \n",
       "Fieschertal                                   104.0           NaN   \n",
       "\n",
       "             1. LES VERTS - GRÜNE  1. PARTI DÉMOCRATE-CHRÉTIEN  \\\n",
       "Bellwald                      NaN                          NaN   \n",
       "Binn                          NaN                          NaN   \n",
       "Ernen                         NaN                          NaN   \n",
       "Fiesch                        NaN                          NaN   \n",
       "Fieschertal                   NaN                          NaN   \n",
       "\n",
       "             1. PARTI LIBÉRAL-RADICAL  \\\n",
       "Bellwald                          NaN   \n",
       "Binn                              NaN   \n",
       "Ernen                             NaN   \n",
       "Fiesch                            NaN   \n",
       "Fieschertal                       NaN   \n",
       "\n",
       "             2. CHRISTLICHDEMOKRATISCHE VOLKSPARTEI - CVP OBERWALLIS  \\\n",
       "Bellwald                                                   NaN         \n",
       "Binn                                                       NaN         \n",
       "Ernen                                                      NaN         \n",
       "Fiesch                                                     NaN         \n",
       "Fieschertal                                                NaN         \n",
       "\n",
       "             2. CHRISTLICHDEMOKRATISCHE VOLKSPARTEI CVP OBERWALLIS  \\\n",
       "Bellwald                                                   NaN       \n",
       "Binn                                                       NaN       \n",
       "Ernen                                                      NaN       \n",
       "Fiesch                                                     NaN       \n",
       "Fieschertal                                                NaN       \n",
       "\n",
       "             2. LES VERTS  2. SP, GRÜNE UND UNABHÄNGIGE        ...         \\\n",
       "Bellwald              NaN                          38.0        ...          \n",
       "Binn                  NaN                           8.0        ...          \n",
       "Ernen                 NaN                          61.0        ...          \n",
       "Fiesch                NaN                          63.0        ...          \n",
       "Fieschertal           NaN                          13.0        ...          \n",
       "\n",
       "             Bulletins nuls  Bulletins valables  District  Electeurs inscrits  \\\n",
       "Bellwald                0.0               123.0      Goms               291.0   \n",
       "Binn                    2.0                51.0      Goms               103.0   \n",
       "Ernen                   0.0               208.0      Goms               411.0   \n",
       "Fiesch                  8.0               329.0      Goms               686.0   \n",
       "Fieschertal             1.0               125.0      Goms               235.0   \n",
       "\n",
       "             Participation (%)  Votants  Votes par correspondances  \\\n",
       "Bellwald                 45.36    132.0                      109.0   \n",
       "Binn                     51.46     53.0                       31.0   \n",
       "Ernen                    50.61    208.0                      176.0   \n",
       "Fiesch                   50.15    344.0                      453.0   \n",
       "Fieschertal              54.04    127.0                      127.0   \n",
       "\n",
       "             Votes à l'urne  par dépôt à la commune  par voie postale  \n",
       "Bellwald               23.0                    86.0              23.0  \n",
       "Binn                   22.0                    19.0              12.0  \n",
       "Ernen                  32.0                   101.0              75.0  \n",
       "Fiesch               -109.0                   318.0             135.0  \n",
       "Fieschertal             0.0                    90.0              37.0  \n",
       "\n",
       "[5 rows x 43 columns]"
      ]
     },
     "execution_count": 125,
     "metadata": {},
     "output_type": "execute_result"
    }
   ],
   "source": [
    "results = pd.concat(district_dfs)\n",
    "results.head()"
   ]
  },
  {
   "cell_type": "markdown",
   "metadata": {},
   "source": [
    "# Regroupement listes en groupes parlementaires"
   ]
  },
  {
   "cell_type": "code",
   "execution_count": 126,
   "metadata": {},
   "outputs": [
    {
     "data": {
      "text/plain": [
       "Index(['1. CHRISTLICHSOZIALE PARTEI (CSP)',\n",
       "       '1. CHRISTLICHSOZIALE VOLKSPARTEI (CSP)', '1. LES VERTS',\n",
       "       '1. LES VERTS - GRÜNE', '1. PARTI DÉMOCRATE-CHRÉTIEN',\n",
       "       '1. PARTI LIBÉRAL-RADICAL',\n",
       "       '2. CHRISTLICHDEMOKRATISCHE VOLKSPARTEI - CVP OBERWALLIS',\n",
       "       '2. CHRISTLICHDEMOKRATISCHE VOLKSPARTEI CVP OBERWALLIS', '2. LES VERTS',\n",
       "       '2. SP, GRÜNE UND UNABHÄNGIGE', '2. UDC',\n",
       "       '3. ALLIANCE DE GAUCHE (PARTI SOCIALISTE, CENTRE GAUCHE-PCS)',\n",
       "       '3. ALLIANCE DE GAUCHE - ENTREMONT AUTREMENT',\n",
       "       '3. CHRISTLICHDEMOKRATISCHE VOLKSPARTEI - CVP OBERWALLIS',\n",
       "       '3. CHRISTLICHDEMOKRATISCHE VOLKSPARTEI CVP OBERWALLIS', '3. PLR / FDP',\n",
       "       '3. PLR.LES LIBÉRAUX-RADICAUX - FDP.DIE LIBERALEN',\n",
       "       '3. SCHWEIZERISCHE VOLKSPARTEI OBERWALLIS (SVPO)',\n",
       "       '4. PARTI DÉMOCRATE-CHRÉTIEN',\n",
       "       '4. PARTI DÉMOCRATE-CHRÉTIEN (PDC) - CHRISTLICHDEMOKRATISCHE VOLKSPARTEI',\n",
       "       '4. PARTI DÉMOCRATE-CHRÉTIEN - CHRISTLICHDEMOKRATISCHE VOLKSPARTEI',\n",
       "       '4. PARTI LIBÉRAL RADICAL',\n",
       "       '4. SCHWEIZERISCHE VOLKSPARTEI OBERWALLIS (SVPO)',\n",
       "       '4. SP UND UNABHÄNGIGE', '4. UDC', '5. ALLIANCE DE GAUCHE',\n",
       "       '5. ALLIANCE DE GAUCHE (PARTI SOCIALISTE, CENTRE GAUCHE-PCS)',\n",
       "       '5. FDP DIE LIBERALEN', '5. PARTI DÉMOCRATE-CHRÉTIEN',\n",
       "       '5. RASSEMBLEMENT CITOYEN VALAIS', '6. LES VERTS',\n",
       "       '6. RASSEMBLEMENT CITOYEN VALAIS', 'Bulletins blancs', 'Bulletins nuls',\n",
       "       'Bulletins valables', 'District', 'Electeurs inscrits',\n",
       "       'Participation (%)', 'Votants', 'Votes par correspondances',\n",
       "       'Votes à l'urne', 'par dépôt à la commune', 'par voie postale'],\n",
       "      dtype='object')"
      ]
     },
     "execution_count": 126,
     "metadata": {},
     "output_type": "execute_result"
    }
   ],
   "source": [
    "results.columns"
   ]
  },
  {
   "cell_type": "code",
   "execution_count": 127,
   "metadata": {},
   "outputs": [],
   "source": [
    "def findLists(allLists,pattern):\n",
    "    return [ s for s in allLists if (pattern in s) ]"
   ]
  },
  {
   "cell_type": "code",
   "execution_count": 128,
   "metadata": {},
   "outputs": [
    {
     "data": {
      "text/plain": [
       "['4. PARTI DÉMOCRATE-CHRÉTIEN (PDC) - CHRISTLICHDEMOKRATISCHE VOLKSPARTEI',\n",
       " '4. PARTI DÉMOCRATE-CHRÉTIEN',\n",
       " '1. PARTI DÉMOCRATE-CHRÉTIEN',\n",
       " '4. PARTI DÉMOCRATE-CHRÉTIEN - CHRISTLICHDEMOKRATISCHE VOLKSPARTEI',\n",
       " '5. PARTI DÉMOCRATE-CHRÉTIEN']"
      ]
     },
     "execution_count": 128,
     "metadata": {},
     "output_type": "execute_result"
    }
   ],
   "source": [
    "pdc = list(set(findLists(results.columns,'MOCRATE')))\n",
    "pdc"
   ]
  },
  {
   "cell_type": "code",
   "execution_count": 129,
   "metadata": {},
   "outputs": [
    {
     "data": {
      "text/plain": [
       "['2. CHRISTLICHDEMOKRATISCHE VOLKSPARTEI - CVP OBERWALLIS',\n",
       " '2. CHRISTLICHDEMOKRATISCHE VOLKSPARTEI CVP OBERWALLIS',\n",
       " '3. CHRISTLICHDEMOKRATISCHE VOLKSPARTEI - CVP OBERWALLIS',\n",
       " '3. CHRISTLICHDEMOKRATISCHE VOLKSPARTEI CVP OBERWALLIS']"
      ]
     },
     "execution_count": 129,
     "metadata": {},
     "output_type": "execute_result"
    }
   ],
   "source": [
    "cvp = findLists(results.columns,'CVP')\n",
    "cvp"
   ]
  },
  {
   "cell_type": "code",
   "execution_count": 130,
   "metadata": {},
   "outputs": [
    {
     "data": {
      "text/plain": [
       "['1. CHRISTLICHSOZIALE PARTEI (CSP)', '1. CHRISTLICHSOZIALE VOLKSPARTEI (CSP)']"
      ]
     },
     "execution_count": 130,
     "metadata": {},
     "output_type": "execute_result"
    }
   ],
   "source": [
    "csp = findLists(results.columns,'CSP')\n",
    "csp"
   ]
  },
  {
   "cell_type": "code",
   "execution_count": 131,
   "metadata": {},
   "outputs": [
    {
     "data": {
      "text/plain": [
       "['1. LES VERTS', '1. LES VERTS - GRÜNE', '2. LES VERTS', '6. LES VERTS']"
      ]
     },
     "execution_count": 131,
     "metadata": {},
     "output_type": "execute_result"
    }
   ],
   "source": [
    "verts = findLists(results.columns,'VERT')\n",
    "verts"
   ]
  },
  {
   "cell_type": "code",
   "execution_count": 132,
   "metadata": {},
   "outputs": [
    {
     "data": {
      "text/plain": [
       "['3. ALLIANCE DE GAUCHE - ENTREMONT AUTREMENT',\n",
       " '4. SP UND UNABHÄNGIGE',\n",
       " '5. ALLIANCE DE GAUCHE (PARTI SOCIALISTE, CENTRE GAUCHE-PCS)',\n",
       " '2. SP, GRÜNE UND UNABHÄNGIGE',\n",
       " '5. ALLIANCE DE GAUCHE',\n",
       " '3. ALLIANCE DE GAUCHE (PARTI SOCIALISTE, CENTRE GAUCHE-PCS)']"
      ]
     },
     "execution_count": 132,
     "metadata": {},
     "output_type": "execute_result"
    }
   ],
   "source": [
    "ps = list(set(findLists(results.columns,'ALLIANCE') + findLists(results.columns,'UNABHÄNGIGE')))\n",
    "ps"
   ]
  },
  {
   "cell_type": "code",
   "execution_count": 133,
   "metadata": {},
   "outputs": [
    {
     "data": {
      "text/plain": [
       "['3. SCHWEIZERISCHE VOLKSPARTEI OBERWALLIS (SVPO)',\n",
       " '4. SCHWEIZERISCHE VOLKSPARTEI OBERWALLIS (SVPO)',\n",
       " '2. UDC',\n",
       " '4. UDC']"
      ]
     },
     "execution_count": 133,
     "metadata": {},
     "output_type": "execute_result"
    }
   ],
   "source": [
    "udc = list(set(findLists(results.columns,'SVP') + findLists(results.columns,'UDC')))\n",
    "udc"
   ]
  },
  {
   "cell_type": "code",
   "execution_count": 134,
   "metadata": {},
   "outputs": [
    {
     "data": {
      "text/plain": [
       "['5. FDP DIE LIBERALEN',\n",
       " '4. PARTI LIBÉRAL RADICAL',\n",
       " '3. PLR / FDP',\n",
       " '3. PLR.LES LIBÉRAUX-RADICAUX - FDP.DIE LIBERALEN',\n",
       " '1. PARTI LIBÉRAL-RADICAL']"
      ]
     },
     "execution_count": 134,
     "metadata": {},
     "output_type": "execute_result"
    }
   ],
   "source": [
    "plr = list(set(findLists(results.columns,'LIB') + findLists(results.columns,'PLR')))\n",
    "plr"
   ]
  },
  {
   "cell_type": "code",
   "execution_count": 135,
   "metadata": {},
   "outputs": [
    {
     "data": {
      "text/plain": [
       "['5. RASSEMBLEMENT CITOYEN VALAIS', '6. RASSEMBLEMENT CITOYEN VALAIS']"
      ]
     },
     "execution_count": 135,
     "metadata": {},
     "output_type": "execute_result"
    }
   ],
   "source": [
    "rcv = findLists(results.columns,'RASSEMBLEMENT')\n",
    "rcv"
   ]
  },
  {
   "cell_type": "code",
   "execution_count": 136,
   "metadata": {},
   "outputs": [
    {
     "data": {
      "text/plain": [
       "32"
      ]
     },
     "execution_count": 136,
     "metadata": {},
     "output_type": "execute_result"
    }
   ],
   "source": [
    "len(pdc+cvp+csp+verts+ps+udc+plr+rcv)"
   ]
  },
  {
   "cell_type": "code",
   "execution_count": 137,
   "metadata": {},
   "outputs": [
    {
     "data": {
      "text/plain": [
       "32"
      ]
     },
     "execution_count": 137,
     "metadata": {},
     "output_type": "execute_result"
    }
   ],
   "source": [
    "len(set(pdc+cvp+csp+verts+ps+udc+plr+rcv))"
   ]
  },
  {
   "cell_type": "code",
   "execution_count": 138,
   "metadata": {},
   "outputs": [
    {
     "data": {
      "text/plain": [
       "43"
      ]
     },
     "execution_count": 138,
     "metadata": {},
     "output_type": "execute_result"
    }
   ],
   "source": [
    "len(results.columns)"
   ]
  },
  {
   "cell_type": "code",
   "execution_count": 153,
   "metadata": {},
   "outputs": [],
   "source": [
    "# map group name with actual party names on lists\n",
    "map_group_parties = {\n",
    "    \"PDC\":pdc,\n",
    "    \"CVP\":cvp,\n",
    "    \"CSP\":csp,\n",
    "    \"Verts\":verts,\n",
    "    \"PS\":ps,\n",
    "    \"UDC\":udc,\n",
    "    \"PLR\":plr,\n",
    "    \"RCV\":rcv,\n",
    "}"
   ]
  },
  {
   "cell_type": "code",
   "execution_count": 154,
   "metadata": {},
   "outputs": [
    {
     "data": {
      "text/html": [
       "<div>\n",
       "<style>\n",
       "    .dataframe thead tr:only-child th {\n",
       "        text-align: right;\n",
       "    }\n",
       "\n",
       "    .dataframe thead th {\n",
       "        text-align: left;\n",
       "    }\n",
       "\n",
       "    .dataframe tbody tr th {\n",
       "        vertical-align: top;\n",
       "    }\n",
       "</style>\n",
       "<table border=\"1\" class=\"dataframe\">\n",
       "  <thead>\n",
       "    <tr style=\"text-align: right;\">\n",
       "      <th></th>\n",
       "      <th>1. CHRISTLICHSOZIALE PARTEI (CSP)</th>\n",
       "      <th>1. CHRISTLICHSOZIALE VOLKSPARTEI (CSP)</th>\n",
       "      <th>1. LES VERTS</th>\n",
       "      <th>1. LES VERTS - GRÜNE</th>\n",
       "      <th>1. PARTI DÉMOCRATE-CHRÉTIEN</th>\n",
       "      <th>1. PARTI LIBÉRAL-RADICAL</th>\n",
       "      <th>2. CHRISTLICHDEMOKRATISCHE VOLKSPARTEI - CVP OBERWALLIS</th>\n",
       "      <th>2. CHRISTLICHDEMOKRATISCHE VOLKSPARTEI CVP OBERWALLIS</th>\n",
       "      <th>2. LES VERTS</th>\n",
       "      <th>2. SP, GRÜNE UND UNABHÄNGIGE</th>\n",
       "      <th>...</th>\n",
       "      <th>par voie postale</th>\n",
       "      <th>Total PS</th>\n",
       "      <th>Total PDC</th>\n",
       "      <th>Total PLR</th>\n",
       "      <th>Total CVP</th>\n",
       "      <th>Total RCV</th>\n",
       "      <th>Total CSP</th>\n",
       "      <th>Total UDC</th>\n",
       "      <th>Total Verts</th>\n",
       "      <th>Somme Suffrages</th>\n",
       "    </tr>\n",
       "  </thead>\n",
       "  <tbody>\n",
       "    <tr>\n",
       "      <th>Bellwald</th>\n",
       "      <td>0.0</td>\n",
       "      <td>121.0</td>\n",
       "      <td>0.0</td>\n",
       "      <td>0.0</td>\n",
       "      <td>0.0</td>\n",
       "      <td>0.0</td>\n",
       "      <td>0.0</td>\n",
       "      <td>0.0</td>\n",
       "      <td>0.0</td>\n",
       "      <td>38.0</td>\n",
       "      <td>...</td>\n",
       "      <td>23.0</td>\n",
       "      <td>38.0</td>\n",
       "      <td>0.0</td>\n",
       "      <td>0.0</td>\n",
       "      <td>59.0</td>\n",
       "      <td>0.0</td>\n",
       "      <td>121.0</td>\n",
       "      <td>26.0</td>\n",
       "      <td>0.0</td>\n",
       "      <td>244.0</td>\n",
       "    </tr>\n",
       "    <tr>\n",
       "      <th>Binn</th>\n",
       "      <td>0.0</td>\n",
       "      <td>49.0</td>\n",
       "      <td>0.0</td>\n",
       "      <td>0.0</td>\n",
       "      <td>0.0</td>\n",
       "      <td>0.0</td>\n",
       "      <td>0.0</td>\n",
       "      <td>0.0</td>\n",
       "      <td>0.0</td>\n",
       "      <td>8.0</td>\n",
       "      <td>...</td>\n",
       "      <td>12.0</td>\n",
       "      <td>8.0</td>\n",
       "      <td>0.0</td>\n",
       "      <td>0.0</td>\n",
       "      <td>34.0</td>\n",
       "      <td>0.0</td>\n",
       "      <td>49.0</td>\n",
       "      <td>10.0</td>\n",
       "      <td>0.0</td>\n",
       "      <td>101.0</td>\n",
       "    </tr>\n",
       "    <tr>\n",
       "      <th>Ernen</th>\n",
       "      <td>0.0</td>\n",
       "      <td>121.0</td>\n",
       "      <td>0.0</td>\n",
       "      <td>0.0</td>\n",
       "      <td>0.0</td>\n",
       "      <td>0.0</td>\n",
       "      <td>0.0</td>\n",
       "      <td>0.0</td>\n",
       "      <td>0.0</td>\n",
       "      <td>61.0</td>\n",
       "      <td>...</td>\n",
       "      <td>75.0</td>\n",
       "      <td>61.0</td>\n",
       "      <td>0.0</td>\n",
       "      <td>0.0</td>\n",
       "      <td>171.0</td>\n",
       "      <td>0.0</td>\n",
       "      <td>121.0</td>\n",
       "      <td>61.0</td>\n",
       "      <td>0.0</td>\n",
       "      <td>414.0</td>\n",
       "    </tr>\n",
       "    <tr>\n",
       "      <th>Fiesch</th>\n",
       "      <td>0.0</td>\n",
       "      <td>325.0</td>\n",
       "      <td>0.0</td>\n",
       "      <td>0.0</td>\n",
       "      <td>0.0</td>\n",
       "      <td>0.0</td>\n",
       "      <td>0.0</td>\n",
       "      <td>0.0</td>\n",
       "      <td>0.0</td>\n",
       "      <td>63.0</td>\n",
       "      <td>...</td>\n",
       "      <td>135.0</td>\n",
       "      <td>63.0</td>\n",
       "      <td>0.0</td>\n",
       "      <td>0.0</td>\n",
       "      <td>142.0</td>\n",
       "      <td>0.0</td>\n",
       "      <td>325.0</td>\n",
       "      <td>123.0</td>\n",
       "      <td>0.0</td>\n",
       "      <td>653.0</td>\n",
       "    </tr>\n",
       "    <tr>\n",
       "      <th>Fieschertal</th>\n",
       "      <td>0.0</td>\n",
       "      <td>104.0</td>\n",
       "      <td>0.0</td>\n",
       "      <td>0.0</td>\n",
       "      <td>0.0</td>\n",
       "      <td>0.0</td>\n",
       "      <td>0.0</td>\n",
       "      <td>0.0</td>\n",
       "      <td>0.0</td>\n",
       "      <td>13.0</td>\n",
       "      <td>...</td>\n",
       "      <td>37.0</td>\n",
       "      <td>13.0</td>\n",
       "      <td>0.0</td>\n",
       "      <td>0.0</td>\n",
       "      <td>42.0</td>\n",
       "      <td>0.0</td>\n",
       "      <td>104.0</td>\n",
       "      <td>90.0</td>\n",
       "      <td>0.0</td>\n",
       "      <td>249.0</td>\n",
       "    </tr>\n",
       "  </tbody>\n",
       "</table>\n",
       "<p>5 rows × 52 columns</p>\n",
       "</div>"
      ],
      "text/plain": [
       "             1. CHRISTLICHSOZIALE PARTEI (CSP)  \\\n",
       "Bellwald                                   0.0   \n",
       "Binn                                       0.0   \n",
       "Ernen                                      0.0   \n",
       "Fiesch                                     0.0   \n",
       "Fieschertal                                0.0   \n",
       "\n",
       "             1. CHRISTLICHSOZIALE VOLKSPARTEI (CSP)  1. LES VERTS  \\\n",
       "Bellwald                                      121.0           0.0   \n",
       "Binn                                           49.0           0.0   \n",
       "Ernen                                         121.0           0.0   \n",
       "Fiesch                                        325.0           0.0   \n",
       "Fieschertal                                   104.0           0.0   \n",
       "\n",
       "             1. LES VERTS - GRÜNE  1. PARTI DÉMOCRATE-CHRÉTIEN  \\\n",
       "Bellwald                      0.0                          0.0   \n",
       "Binn                          0.0                          0.0   \n",
       "Ernen                         0.0                          0.0   \n",
       "Fiesch                        0.0                          0.0   \n",
       "Fieschertal                   0.0                          0.0   \n",
       "\n",
       "             1. PARTI LIBÉRAL-RADICAL  \\\n",
       "Bellwald                          0.0   \n",
       "Binn                              0.0   \n",
       "Ernen                             0.0   \n",
       "Fiesch                            0.0   \n",
       "Fieschertal                       0.0   \n",
       "\n",
       "             2. CHRISTLICHDEMOKRATISCHE VOLKSPARTEI - CVP OBERWALLIS  \\\n",
       "Bellwald                                                   0.0         \n",
       "Binn                                                       0.0         \n",
       "Ernen                                                      0.0         \n",
       "Fiesch                                                     0.0         \n",
       "Fieschertal                                                0.0         \n",
       "\n",
       "             2. CHRISTLICHDEMOKRATISCHE VOLKSPARTEI CVP OBERWALLIS  \\\n",
       "Bellwald                                                   0.0       \n",
       "Binn                                                       0.0       \n",
       "Ernen                                                      0.0       \n",
       "Fiesch                                                     0.0       \n",
       "Fieschertal                                                0.0       \n",
       "\n",
       "             2. LES VERTS  2. SP, GRÜNE UND UNABHÄNGIGE       ...         \\\n",
       "Bellwald              0.0                          38.0       ...          \n",
       "Binn                  0.0                           8.0       ...          \n",
       "Ernen                 0.0                          61.0       ...          \n",
       "Fiesch                0.0                          63.0       ...          \n",
       "Fieschertal           0.0                          13.0       ...          \n",
       "\n",
       "             par voie postale  Total PS  Total PDC  Total PLR  Total CVP  \\\n",
       "Bellwald                 23.0      38.0        0.0        0.0       59.0   \n",
       "Binn                     12.0       8.0        0.0        0.0       34.0   \n",
       "Ernen                    75.0      61.0        0.0        0.0      171.0   \n",
       "Fiesch                  135.0      63.0        0.0        0.0      142.0   \n",
       "Fieschertal              37.0      13.0        0.0        0.0       42.0   \n",
       "\n",
       "             Total RCV  Total CSP  Total UDC  Total Verts  Somme Suffrages  \n",
       "Bellwald           0.0      121.0       26.0          0.0            244.0  \n",
       "Binn               0.0       49.0       10.0          0.0            101.0  \n",
       "Ernen              0.0      121.0       61.0          0.0            414.0  \n",
       "Fiesch             0.0      325.0      123.0          0.0            653.0  \n",
       "Fieschertal        0.0      104.0       90.0          0.0            249.0  \n",
       "\n",
       "[5 rows x 52 columns]"
      ]
     },
     "execution_count": 154,
     "metadata": {},
     "output_type": "execute_result"
    }
   ],
   "source": [
    "## Aggregate party votes - create a column \"Total group\"\n",
    "all_results = results.fillna(0)\n",
    "for group, parties in map_group_parties.items():\n",
    "    all_results['Total '+group] = all_results[parties].sum(axis=1)\n",
    "\n",
    "# total suffrages (tous les partis)\n",
    "#all_parties = pdc+cvp+csp+verts+ps+udc+plr+rcv -> same but generic below\n",
    "all_parties = [item for sublist in list(map_group_parties.values()) for item in sublist]\n",
    "all_results['Somme Suffrages'] = all_results[all_parties].sum(axis=1)\n",
    "all_results.head()"
   ]
  },
  {
   "cell_type": "markdown",
   "metadata": {},
   "source": [
    "# Ajout nombre sièges par district, estimation électorat partisan"
   ]
  },
  {
   "cell_type": "code",
   "execution_count": 155,
   "metadata": {},
   "outputs": [],
   "source": [
    "## Extension - données calculées\n",
    "\n",
    "# add number of seats per district\n",
    "all_results['Sièges'] = all_results['District'].apply(lambda x: district_seats[x])\n",
    "\n",
    "# calculer moyenne suffrages par district\n",
    "all_results['Moyenne suffrages/bulletin'] = all_results['Somme Suffrages'] / all_results['Bulletins valables'] \n",
    "\n",
    "# estimer nombre d'électeurs par parti : base moyenne de suffrages par bulletin\n",
    "for group, parties in map_group_parties.items():\n",
    "    # version générique de : all_results['Electorat PDC'] = all_results['Total PDC'] / all_results['Moyenne suffrages/bulletin']\n",
    "    all_results['Electorat '+group] = all_results['Total '+group] / all_results['Moyenne suffrages/bulletin']\n"
   ]
  },
  {
   "cell_type": "markdown",
   "metadata": {},
   "source": [
    "Observation : le nombre moyen de suffrages par bulletin est en moyenne égal à 97% du nombre de sièges pour le district. Outlier : Trient avec 81%. Les communes haut-valaisannes sont plus proches du 100% (listes franches?)\n",
    "\n",
    "**VIGILANCE** : ici je choisi d'estimer l'électorat sur la base de la moyenne de suffrages par bulletin. Mais dans les étapes suivantes, je vais multiplier ce chiffre par le nombre de sièges pour la région -> potentielle surestimation ! (mais en principe comparable pour tous les groupes donc négligeable ?)\n"
   ]
  },
  {
   "cell_type": "markdown",
   "metadata": {},
   "source": [
    "# Exportation"
   ]
  },
  {
   "cell_type": "code",
   "execution_count": 157,
   "metadata": {},
   "outputs": [],
   "source": [
    "with pd.ExcelWriter('2017-resultats-communes.xlsx') as writer:\n",
    "    all_results.to_excel(writer)"
   ]
  }
 ],
 "metadata": {
  "kernelspec": {
   "display_name": "Python 3",
   "language": "python",
   "name": "python3"
  },
  "language_info": {
   "codemirror_mode": {
    "name": "ipython",
    "version": 3
   },
   "file_extension": ".py",
   "mimetype": "text/x-python",
   "name": "python",
   "nbconvert_exporter": "python",
   "pygments_lexer": "ipython3",
   "version": "3.5.2"
  }
 },
 "nbformat": 4,
 "nbformat_minor": 2
}
